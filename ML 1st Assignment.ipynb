{
 "cells": [
  {
   "cell_type": "code",
   "execution_count": null,
   "metadata": {},
   "outputs": [],
   "source": [
    "1. Write a program which will find all such numbers which are divisible by 7 but are not a multiple\n",
    "of 5, between 2000 and 3200 (both included). The numbers obtained should be printed in a\n",
    "comma-separated sequence on a single line."
   ]
  },
  {
   "cell_type": "code",
   "execution_count": 8,
   "metadata": {},
   "outputs": [
    {
     "data": {
      "text/plain": [
       "[2002,\n",
       " 2009,\n",
       " 2016,\n",
       " 2023,\n",
       " 2037,\n",
       " 2044,\n",
       " 2051,\n",
       " 2058,\n",
       " 2072,\n",
       " 2079,\n",
       " 2086,\n",
       " 2093,\n",
       " 2107,\n",
       " 2114,\n",
       " 2121,\n",
       " 2128,\n",
       " 2142,\n",
       " 2149,\n",
       " 2156,\n",
       " 2163,\n",
       " 2177,\n",
       " 2184,\n",
       " 2191,\n",
       " 2198,\n",
       " 2212,\n",
       " 2219,\n",
       " 2226,\n",
       " 2233,\n",
       " 2247,\n",
       " 2254,\n",
       " 2261,\n",
       " 2268,\n",
       " 2282,\n",
       " 2289,\n",
       " 2296,\n",
       " 2303,\n",
       " 2317,\n",
       " 2324,\n",
       " 2331,\n",
       " 2338,\n",
       " 2352,\n",
       " 2359,\n",
       " 2366,\n",
       " 2373,\n",
       " 2387,\n",
       " 2394,\n",
       " 2401,\n",
       " 2408,\n",
       " 2422,\n",
       " 2429,\n",
       " 2436,\n",
       " 2443,\n",
       " 2457,\n",
       " 2464,\n",
       " 2471,\n",
       " 2478,\n",
       " 2492,\n",
       " 2499,\n",
       " 2506,\n",
       " 2513,\n",
       " 2527,\n",
       " 2534,\n",
       " 2541,\n",
       " 2548,\n",
       " 2562,\n",
       " 2569,\n",
       " 2576,\n",
       " 2583,\n",
       " 2597,\n",
       " 2604,\n",
       " 2611,\n",
       " 2618,\n",
       " 2632,\n",
       " 2639,\n",
       " 2646,\n",
       " 2653,\n",
       " 2667,\n",
       " 2674,\n",
       " 2681,\n",
       " 2688,\n",
       " 2702,\n",
       " 2709,\n",
       " 2716,\n",
       " 2723,\n",
       " 2737,\n",
       " 2744,\n",
       " 2751,\n",
       " 2758,\n",
       " 2772,\n",
       " 2779,\n",
       " 2786,\n",
       " 2793,\n",
       " 2807,\n",
       " 2814,\n",
       " 2821,\n",
       " 2828,\n",
       " 2842,\n",
       " 2849,\n",
       " 2856,\n",
       " 2863,\n",
       " 2877,\n",
       " 2884,\n",
       " 2891,\n",
       " 2898,\n",
       " 2912,\n",
       " 2919,\n",
       " 2926,\n",
       " 2933,\n",
       " 2947,\n",
       " 2954,\n",
       " 2961,\n",
       " 2968,\n",
       " 2982,\n",
       " 2989,\n",
       " 2996,\n",
       " 3003,\n",
       " 3017,\n",
       " 3024,\n",
       " 3031,\n",
       " 3038,\n",
       " 3052,\n",
       " 3059,\n",
       " 3066,\n",
       " 3073,\n",
       " 3087,\n",
       " 3094,\n",
       " 3101,\n",
       " 3108,\n",
       " 3122,\n",
       " 3129,\n",
       " 3136,\n",
       " 3143,\n",
       " 3157,\n",
       " 3164,\n",
       " 3171,\n",
       " 3178,\n",
       " 3192,\n",
       " 3199]"
      ]
     },
     "execution_count": 8,
     "metadata": {},
     "output_type": "execute_result"
    }
   ],
   "source": [
    "multiples_7not5 = [n for n in range(2000, 3201) if n % 7 == 0 and n % 5 != 0]\n",
    "multiples_7not5"
   ]
  },
  {
   "cell_type": "code",
   "execution_count": null,
   "metadata": {},
   "outputs": [],
   "source": [
    "2. Write a Python program to accept the user's first and last name and then getting them printed in\n",
    "the the reverse order with a space between first name and last name."
   ]
  },
  {
   "cell_type": "code",
   "execution_count": 12,
   "metadata": {},
   "outputs": [
    {
     "name": "stdout",
     "output_type": "stream",
     "text": [
      "Ram\n",
      "Kumar\n",
      "Kumar Ram\n"
     ]
    }
   ],
   "source": [
    "first_name = input()\n",
    "last_name = input()\n",
    "print (last_name,first_name)"
   ]
  },
  {
   "cell_type": "code",
   "execution_count": null,
   "metadata": {},
   "outputs": [],
   "source": [
    "3. Write a Python program to find the volume of a sphere with diameter 12 cm.\n",
    "Formula: V=4/3 * π * r 3"
   ]
  },
  {
   "cell_type": "code",
   "execution_count": 15,
   "metadata": {},
   "outputs": [
    {
     "data": {
      "text/plain": [
       "904.3199999999998"
      ]
     },
     "execution_count": 15,
     "metadata": {},
     "output_type": "execute_result"
    }
   ],
   "source": [
    "d = 12 \n",
    "r = d/2\n",
    "pi = 3.14\n",
    "volume = 4/3 *  pi * r *r *r\n",
    "volume"
   ]
  },
  {
   "cell_type": "code",
   "execution_count": null,
   "metadata": {},
   "outputs": [],
   "source": [
    "4. Write a program which accepts a sequence of comma-separated numbers from console and\n",
    "generate a list."
   ]
  },
  {
   "cell_type": "code",
   "execution_count": 18,
   "metadata": {},
   "outputs": [
    {
     "name": "stdout",
     "output_type": "stream",
     "text": [
      "Input some comma seprated numbers : 9,0,4,7,2,76,23,45,12,11,68,99,00\n",
      "List :  ['9', '0', '4', '7', '2', '76', '23', '45', '12', '11', '68', '99', '00']\n"
     ]
    }
   ],
   "source": [
    "values = input(\"Input some comma seprated numbers : \")\n",
    "list = values.split(\",\")\n",
    "print('List : ',list)\n"
   ]
  },
  {
   "cell_type": "code",
   "execution_count": null,
   "metadata": {},
   "outputs": [],
   "source": [
    "5. Create the below pattern using nested for loop in Python.\n",
    "*\n",
    "* *\n",
    "* * *\n",
    "* * * *\n",
    "* * * * *\n",
    "* * * *\n",
    "* * *\n",
    "* *\n",
    "*"
   ]
  },
  {
   "cell_type": "code",
   "execution_count": 35,
   "metadata": {},
   "outputs": [
    {
     "name": "stdout",
     "output_type": "stream",
     "text": [
      "*\n",
      "**\n",
      "***\n",
      "****\n",
      "*****\n",
      "****\n",
      "***\n",
      "**\n",
      "*\n",
      "\n"
     ]
    }
   ],
   "source": [
    "for i in range (1,6):\n",
    "    for j in range (1,i+1):\n",
    "        print(\"*\",end=\"\")\n",
    "    print(\"\")\n",
    "for i in range (6,1,-1):\n",
    "    for j in range(1,i-1):\n",
    "        print(\"*\",end=\"\")\n",
    "    print(\"\")"
   ]
  },
  {
   "cell_type": "code",
   "execution_count": null,
   "metadata": {},
   "outputs": [],
   "source": [
    "6. Write a Python program to reverse a word after accepting the input from the user.\n",
    "Sample Output:\n",
    "Input word: AcadGild\n",
    "Output: dilGdacA"
   ]
  },
  {
   "cell_type": "code",
   "execution_count": 39,
   "metadata": {},
   "outputs": [
    {
     "name": "stdout",
     "output_type": "stream",
     "text": [
      "Lokesh\n"
     ]
    },
    {
     "data": {
      "text/plain": [
       "'hsekoL'"
      ]
     },
     "execution_count": 39,
     "metadata": {},
     "output_type": "execute_result"
    }
   ],
   "source": [
    "word = input()\n",
    "word[::-1]"
   ]
  },
  {
   "cell_type": "code",
   "execution_count": null,
   "metadata": {},
   "outputs": [],
   "source": [
    "7. Write a Python Program to print the given string in the format specified in the sample output.\n",
    "WE, THE PEOPLE OF INDIA, having solemnly resolved to constitute India into a\n",
    "SOVEREIGN, SOCIALIST, SECULAR, DEMOCRATIC REPUBLIC and to secure to all\n",
    "its citizens\n",
    "Sample Output:\n",
    "WE, THE PEOPLE OF INDIA,\n",
    "    having solemnly resolved to constitute India into a SOVEREIGN, !\n",
    "        SOCIALIST, SECULAR, DEMOCRATIC REPUBLIC\n",
    "         and to secure to all its citizens"
   ]
  },
  {
   "cell_type": "code",
   "execution_count": 52,
   "metadata": {
    "scrolled": true
   },
   "outputs": [
    {
     "name": "stdout",
     "output_type": "stream",
     "text": [
      "WE, THE PEOPLE OF INDIA,\n",
      "\t having solemnly resolved to constitue India into a SOVEREIGN, !\n",
      "\t\t SOCIALIST, SECULAR, DEMOCRATIC REPUBLIC\n",
      "\t\t  and to secure to all its citizens\n"
     ]
    }
   ],
   "source": [
    "print ('WE, THE PEOPLE OF INDIA,\\n\\t having solemnly resolved to constitue India into a SOVEREIGN, !\\n\\t\\t SOCIALIST, SECULAR, DEMOCRATIC REPUBLIC\\n\\t\\t  and to secure to all its citizens')\n"
   ]
  }
 ],
 "metadata": {
  "kernelspec": {
   "display_name": "Python 3",
   "language": "python",
   "name": "python3"
  },
  "language_info": {
   "codemirror_mode": {
    "name": "ipython",
    "version": 3
   },
   "file_extension": ".py",
   "mimetype": "text/x-python",
   "name": "python",
   "nbconvert_exporter": "python",
   "pygments_lexer": "ipython3",
   "version": "3.7.3"
  }
 },
 "nbformat": 4,
 "nbformat_minor": 2
}
